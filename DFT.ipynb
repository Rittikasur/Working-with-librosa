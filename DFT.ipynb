{
 "cells": [
  {
   "cell_type": "code",
   "execution_count": 1,
   "metadata": {},
   "outputs": [
    {
     "ename": "ModuleNotFoundError",
     "evalue": "No module named 'librosa'",
     "output_type": "error",
     "traceback": [
      "\u001b[1;31m---------------------------------------------------------------------------\u001b[0m",
      "\u001b[1;31mModuleNotFoundError\u001b[0m                       Traceback (most recent call last)",
      "\u001b[1;32m<ipython-input-1-0d9951984300>\u001b[0m in \u001b[0;36m<module>\u001b[1;34m\u001b[0m\n\u001b[1;32m----> 1\u001b[1;33m \u001b[1;32mimport\u001b[0m \u001b[0mlibrosa\u001b[0m \u001b[1;32mas\u001b[0m \u001b[0mli\u001b[0m\u001b[1;33m\u001b[0m\u001b[1;33m\u001b[0m\u001b[0m\n\u001b[0m\u001b[0;32m      2\u001b[0m \u001b[1;32mimport\u001b[0m \u001b[0mmatplotlib\u001b[0m\u001b[1;33m.\u001b[0m\u001b[0mpyplot\u001b[0m \u001b[1;32mas\u001b[0m \u001b[0mplt\u001b[0m\u001b[1;33m\u001b[0m\u001b[1;33m\u001b[0m\u001b[0m\n",
      "\u001b[1;31mModuleNotFoundError\u001b[0m: No module named 'librosa'"
     ]
    }
   ],
   "source": [
    "import librosa as li\n",
    "import matplotlib.pyplot as plt"
   ]
  },
  {
   "cell_type": "code",
   "execution_count": 2,
   "metadata": {},
   "outputs": [],
   "source": [
    "file = \"sample.wav\" #pathe of the audio file\n"
   ]
  },
  {
   "cell_type": "code",
   "execution_count": 3,
   "metadata": {},
   "outputs": [],
   "source": [
    "samples,sample_rate = li.load(file, sr= None , mono = True, offset = 0.0, duration = None) # sampling the audio to convert it into digital values"
   ]
  },
  {
   "cell_type": "code",
   "execution_count": 5,
   "metadata": {},
   "outputs": [
    {
     "data": {
      "text/plain": [
       "48000"
      ]
     },
     "execution_count": 5,
     "metadata": {},
     "output_type": "execute_result"
    }
   ],
   "source": [
    "sample_rate # default sampling rate"
   ]
  },
  {
   "cell_type": "code",
   "execution_count": 22,
   "metadata": {},
   "outputs": [
    {
     "data": {
      "text/plain": [
       "844800"
      ]
     },
     "execution_count": 22,
     "metadata": {},
     "output_type": "execute_result"
    }
   ],
   "source": [
    " len(samples)# no of samples generated"
   ]
  },
  {
   "cell_type": "code",
   "execution_count": 6,
   "metadata": {},
   "outputs": [],
   "source": [
    "import scipy\n",
    "def fftp(audio,sr):\n",
    "    n=len(audio)\n",
    "    t = 1/sr\n",
    "    f = scipy.fft(audio)\n",
    "    return f\n"
   ]
  },
  {
   "cell_type": "code",
   "execution_count": 7,
   "metadata": {},
   "outputs": [],
   "source": [
    " fr=fftp(samples,sample_rate) #discrete frequencies "
   ]
  },
  {
   "cell_type": "code",
   "execution_count": 8,
   "metadata": {},
   "outputs": [
    {
     "data": {
      "text/plain": [
       "array([766.9203   +0.j     , 385.61658-357.13797j, 378.22607+151.24701j,\n",
       "       ..., 869.05365+176.70322j, 378.22607-151.24701j,\n",
       "       385.61658+357.13797j], dtype=complex64)"
      ]
     },
     "execution_count": 8,
     "metadata": {},
     "output_type": "execute_result"
    }
   ],
   "source": [
    "fr"
   ]
  },
  {
   "cell_type": "code",
   "execution_count": 24,
   "metadata": {},
   "outputs": [
    {
     "data": {
      "text/plain": [
       "48000"
      ]
     },
     "execution_count": 24,
     "metadata": {},
     "output_type": "execute_result"
    }
   ],
   "source": [
    "sample_rate"
   ]
  },
  {
   "cell_type": "code",
   "execution_count": 27,
   "metadata": {},
   "outputs": [
    {
     "data": {
      "image/png": "[encoded data removed]",
      "text/plain": [
       "<Figure size 432x288 with 1 Axes>"
      ]
     },
     "metadata": {
      "needs_background": "light"
     },
     "output_type": "display_data"
    }
   ],
   "source": [
    "#frequencies in time domain\n",
    "from librosa import display \n",
    "plt.figure()\n",
    "li.display.waveplot(y=samples, sr = sample_rate)\n",
    "plt.show()"
   ]
  },
  {
   "cell_type": "code",
   "execution_count": 9,
   "metadata": {},
   "outputs": [],
   "source": [
    "import numpy as np\n",
    "freq = np.abs(fr)#absolute values of the frequency"
   ]
  },
  {
   "cell_type": "code",
   "execution_count": 10,
   "metadata": {},
   "outputs": [
    {
     "data": {
      "text/plain": [
       "array([766.9203 , 525.5927 , 407.34583, ..., 886.8361 , 407.34583,\n",
       "       525.5927 ], dtype=float32)"
      ]
     },
     "execution_count": 10,
     "metadata": {},
     "output_type": "execute_result"
    }
   ],
   "source": [
    "freq"
   ]
  },
  {
   "cell_type": "code",
   "execution_count": 11,
   "metadata": {},
   "outputs": [
    {
     "data": {
      "text/plain": [
       "844800"
      ]
     },
     "execution_count": 11,
     "metadata": {},
     "output_type": "execute_result"
    }
   ],
   "source": [
    "len(freq)"
   ]
  },
  {
   "cell_type": "code",
   "execution_count": 36,
   "metadata": {},
   "outputs": [
    {
     "data": {
      "text/plain": [
       "array([886.8361], dtype=float32)"
      ]
     },
     "execution_count": 36,
     "metadata": {},
     "output_type": "execute_result"
    }
   ],
   "source": [
    "freq[3:4]"
   ]
  },
  {
   "cell_type": "code",
   "execution_count": 37,
   "metadata": {},
   "outputs": [
    {
     "data": {
      "text/plain": [
       "array([327.21317 , 105.49384 , 250.89758 , 183.68513 ,  50.999577,\n",
       "        85.724625,  97.37668 ,  44.289288, 275.36298 , 328.65424 ,\n",
       "       226.7763  , 143.3095  , 136.11368 ,  83.835014, 170.64218 ,\n",
       "       132.07321 , 143.82474 , 122.10196 , 109.655754,  19.01986 ,\n",
       "       370.47293 , 245.44342 , 227.76639 , 165.76749 , 109.38623 ,\n",
       "       168.92902 , 277.05164 , 194.96819 , 234.7748  , 373.59512 ,\n",
       "       162.71379 ,  90.86741 , 153.01028 , 181.87389 , 281.37708 ,\n",
       "       230.97705 ,  89.967926, 184.02686 , 191.95894 ,  36.03872 ,\n",
       "       174.833   ,  29.784037,  79.79887 ,  52.335796,  43.285927,\n",
       "       116.531166, 198.90065 , 180.53079 , 178.27112 , 254.45714 ,\n",
       "        74.21577 , 115.211174, 252.18942 , 106.8242  , 274.23596 ,\n",
       "       338.02914 , 127.59729 , 343.9389  , 123.48543 , 301.0132  ,\n",
       "       285.04852 , 173.98479 , 347.9781  , 243.89095 , 249.20891 ,\n",
       "       220.32545 , 179.47612 , 161.41931 , 238.37157 , 185.48932 ,\n",
       "       288.32358 , 252.72025 , 194.59502 ,  75.909775, 290.42133 ,\n",
       "       165.42145 , 264.29074 , 327.13293 , 157.98131 , 257.4289  ,\n",
       "       272.52054 ,  79.80917 , 262.12024 , 259.51328 , 184.92508 ,\n",
       "       240.68814 , 207.83853 , 103.61156 , 235.97588 , 226.95187 ,\n",
       "       227.76038 , 235.82953 , 136.73102 , 227.64038 , 327.91992 ,\n",
       "       208.08058 , 303.15533 , 376.843   , 333.32343 , 437.34518 ],\n",
       "      dtype=float32)"
      ]
     },
     "execution_count": 37,
     "metadata": {},
     "output_type": "execute_result"
    }
   ],
   "source": [
    "freq[3000:3100]"
   ]
  },
  {
   "cell_type": "code",
   "execution_count": null,
   "metadata": {},
   "outputs": [],
   "source": []
  }
 ],
 "metadata": {
  "kernelspec": {
   "display_name": "Python 3",
   "language": "python",
   "name": "python3"
  },
  "language_info": {
   "codemirror_mode": {
    "name": "ipython",
    "version": 3
   },
   "file_extension": ".py",
   "mimetype": "text/x-python",
   "name": "python",
   "nbconvert_exporter": "python",
   "pygments_lexer": "ipython3",
   "version": "3.7.6"
  }
 },
 "nbformat": 4,
 "nbformat_minor": 2
}
